{
 "cells": [
  {
   "cell_type": "code",
   "execution_count": null,
   "id": "255f5067",
   "metadata": {},
   "outputs": [],
   "source": [
    "#unordered\n",
    "#changable\n",
    "#repetition not allowed"
   ]
  },
  {
   "cell_type": "code",
   "execution_count": 3,
   "id": "ea337fcf",
   "metadata": {},
   "outputs": [
    {
     "name": "stdout",
     "output_type": "stream",
     "text": [
      "{'key1': 1, 'key2': 2, 'key3': 3}\n"
     ]
    }
   ],
   "source": [
    "d1={\"key1\":1,\"key2\":2,\"key3\":3}\n",
    "print(d1)\n"
   ]
  },
  {
   "cell_type": "code",
   "execution_count": 4,
   "id": "5821767e",
   "metadata": {},
   "outputs": [
    {
     "name": "stdout",
     "output_type": "stream",
     "text": [
      "('key1', 1)\n",
      "('key2', 2)\n",
      "('key3', 3)\n"
     ]
    }
   ],
   "source": [
    "d1={\"key1\":1,\"key2\":2,\"key3\":3}\n",
    "for i in d1.items():\n",
    "    print(i)"
   ]
  },
  {
   "cell_type": "code",
   "execution_count": 3,
   "id": "bc9ffeb5",
   "metadata": {},
   "outputs": [
    {
     "data": {
      "text/plain": [
       "4"
      ]
     },
     "execution_count": 3,
     "metadata": {},
     "output_type": "execute_result"
    }
   ],
   "source": [
    "(len(d1))"
   ]
  },
  {
   "cell_type": "code",
   "execution_count": 5,
   "id": "f63b7e82",
   "metadata": {},
   "outputs": [
    {
     "data": {
      "text/plain": [
       "dict"
      ]
     },
     "execution_count": 5,
     "metadata": {},
     "output_type": "execute_result"
    }
   ],
   "source": [
    "type(d1)"
   ]
  },
  {
   "cell_type": "code",
   "execution_count": 6,
   "id": "f6bba523",
   "metadata": {},
   "outputs": [
    {
     "data": {
      "text/plain": [
       "{'section': 1}"
      ]
     },
     "execution_count": 6,
     "metadata": {},
     "output_type": "execute_result"
    }
   ],
   "source": [
    "d={\"section\":1}\n",
    "d"
   ]
  },
  {
   "cell_type": "code",
   "execution_count": 7,
   "id": "2a5c7eda",
   "metadata": {
    "scrolled": true
   },
   "outputs": [
    {
     "name": "stdout",
     "output_type": "stream",
     "text": [
      "key1\n",
      "key2\n",
      "key3\n"
     ]
    }
   ],
   "source": [
    "d1={\"key1\":1,\"key2\":2,\"key3\":3}\n",
    "for i in d1.keys():\n",
    "    print(i)"
   ]
  },
  {
   "cell_type": "code",
   "execution_count": 1,
   "id": "8ffac4a1",
   "metadata": {},
   "outputs": [
    {
     "data": {
      "text/plain": [
       "{'key1': 'abhima', 'key2': 2, 'key3': 2, 'key4': 4}"
      ]
     },
     "execution_count": 1,
     "metadata": {},
     "output_type": "execute_result"
    }
   ],
   "source": [
    "d1={'key1':1,'key2':2,'key3':2,'key4':4}\n",
    "d1[\"key1\"]=\"abhima\"\n",
    "d1"
   ]
  },
  {
   "cell_type": "code",
   "execution_count": 4,
   "id": "50203de6",
   "metadata": {},
   "outputs": [
    {
     "data": {
      "text/plain": [
       "'abhima'"
      ]
     },
     "execution_count": 4,
     "metadata": {},
     "output_type": "execute_result"
    }
   ],
   "source": [
    "d1.get('key1')"
   ]
  },
  {
   "cell_type": "code",
   "execution_count": 7,
   "id": "ab9f1335",
   "metadata": {},
   "outputs": [
    {
     "ename": "AttributeError",
     "evalue": "'dict' object has no attribute 'upadte'",
     "output_type": "error",
     "traceback": [
      "\u001b[1;31m---------------------------------------------------------------------------\u001b[0m",
      "\u001b[1;31mAttributeError\u001b[0m                            Traceback (most recent call last)",
      "Input \u001b[1;32mIn [7]\u001b[0m, in \u001b[0;36m<cell line: 5>\u001b[1;34m()\u001b[0m\n\u001b[0;32m      4\u001b[0m di3\u001b[38;5;241m=\u001b[39m{}\n\u001b[0;32m      5\u001b[0m \u001b[38;5;28;01mfor\u001b[39;00m i \u001b[38;5;129;01min\u001b[39;00m di1,di2:\n\u001b[1;32m----> 6\u001b[0m     \u001b[43mdi3\u001b[49m\u001b[38;5;241;43m.\u001b[39;49m\u001b[43mupadte\u001b[49m(i)\n\u001b[0;32m      7\u001b[0m     \u001b[38;5;28mprint\u001b[39m(di3)\n",
      "\u001b[1;31mAttributeError\u001b[0m: 'dict' object has no attribute 'upadte'"
     ]
    }
   ],
   "source": [
    "#merging of two dictionaries\n",
    "di1={'key1':'value1','key2':'value2'}\n",
    "di2={'key3':'value3','key4':'value4'}\n",
    "di3={}\n",
    "for i in di1,di2:\n",
    "    di3.upadte(i)\n",
    "    print(di3)"
   ]
  },
  {
   "cell_type": "code",
   "execution_count": 10,
   "id": "243dc513",
   "metadata": {},
   "outputs": [
    {
     "name": "stdout",
     "output_type": "stream",
     "text": [
      "{'section': 1, 'key1': 4, 'key2': 2, 'key3': 2, 'section2': 10, 'key9': 16}\n"
     ]
    }
   ],
   "source": [
    "d={'section':1,'key1':4,'key2':2,'key3':2}\n",
    "d1={'section2':10,'key9':16}\n",
    "x=d|d1\n",
    "print(x)     #union method to merge two dictionaries"
   ]
  },
  {
   "cell_type": "code",
   "execution_count": null,
   "id": "d213dfd0",
   "metadata": {},
   "outputs": [],
   "source": [
    "#wap to input keys of the dict and print its values as the square of keys\n",
    "n=int(input())\n",
    "for i in "
   ]
  }
 ],
 "metadata": {
  "kernelspec": {
   "display_name": "Python 3 (ipykernel)",
   "language": "python",
   "name": "python3"
  },
  "language_info": {
   "codemirror_mode": {
    "name": "ipython",
    "version": 3
   },
   "file_extension": ".py",
   "mimetype": "text/x-python",
   "name": "python",
   "nbconvert_exporter": "python",
   "pygments_lexer": "ipython3",
   "version": "3.9.12"
  }
 },
 "nbformat": 4,
 "nbformat_minor": 5
}
